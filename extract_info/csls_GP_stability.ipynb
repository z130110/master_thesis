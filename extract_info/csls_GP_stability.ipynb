{
 "cells": [
  {
   "cell_type": "code",
   "execution_count": 1,
   "metadata": {},
   "outputs": [],
   "source": [
    "%load_ext autoreload\n",
    "%autoreload 2\n",
    "import os\n",
    "import json\n",
    "import matplotlib.pyplot as plt\n",
    "import numpy as np\n",
    "import sys\n",
    "sys.path.append('~/Library/Mobile\\ Documents/com~apple~CloudDocs/Master_Thesis⁩/⁨loss_curves⁩/utils')\n",
    "from utils import logger\n",
    "from utils import multi_run_std\n",
    "np.set_printoptions(suppress=True)\n",
    "%matplotlib inline"
   ]
  },
  {
   "cell_type": "markdown",
   "metadata": {},
   "source": [
    "# en es"
   ]
  },
  {
   "cell_type": "code",
   "execution_count": 2,
   "metadata": {},
   "outputs": [
    {
     "data": {
      "text/plain": [
       "{'global_p1_max': 35.5,\n",
       " 'global_p1_min': 34.6,\n",
       " 'avg_p1': 35.0,\n",
       " 'std_p1': 0.4,\n",
       " 'global_p5_max': 62.2,\n",
       " 'global_p5_min': 59.7,\n",
       " 'avg_p5': 61.3,\n",
       " 'std_p5': 0.8,\n",
       " 'global_p10_max': 69.7,\n",
       " 'global_p10_min': 67.5,\n",
       " 'avg_p10': 68.7,\n",
       " 'std_p10': 0.6,\n",
       " 'all_max_p1': array([34.8, 35.3, 35.5, 35.4, 35.6, 34.9, 34.6, 35. , 34.6, 34.8]),\n",
       " 'all_max_p5': array([61.2, 61.9, 62.2, 61.5, 61.6, 60.8, 62.3, 60.7, 59.7, 60.6]),\n",
       " 'all_max_p10': array([69.1, 69.3, 69.7, 68.5, 68.4, 68.2, 69.2, 68.3, 67.5, 68.3])}"
      ]
     },
     "execution_count": 2,
     "metadata": {},
     "output_type": "execute_result"
    }
   ],
   "source": [
    "path_vanilla_es = \"data/gp_ln/ten_en_es/log-740039_full_res.out\"\n",
    "line_int_es = (0, 999999)  # line interval from log file\n",
    "log_es = logger(path_vanilla_es, line_int_es)\n",
    "log_es.extract_csls_stability()"
   ]
  },
  {
   "cell_type": "code",
   "execution_count": null,
   "metadata": {},
   "outputs": [],
   "source": []
  }
 ],
 "metadata": {
  "kernelspec": {
   "display_name": "Python 3",
   "language": "python",
   "name": "python3"
  },
  "language_info": {
   "codemirror_mode": {
    "name": "ipython",
    "version": 3
   },
   "file_extension": ".py",
   "mimetype": "text/x-python",
   "name": "python",
   "nbconvert_exporter": "python",
   "pygments_lexer": "ipython3",
   "version": "3.7.1"
  }
 },
 "nbformat": 4,
 "nbformat_minor": 2
}
